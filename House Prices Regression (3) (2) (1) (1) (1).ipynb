{
 "cells": [
  {
   "cell_type": "markdown",
   "metadata": {},
   "source": [
    "## Installing packages"
   ]
  },
  {
   "cell_type": "code",
   "execution_count": 1,
   "metadata": {
    "scrolled": false
   },
   "outputs": [
    {
     "name": "stdout",
     "output_type": "stream",
     "text": [
      "Collecting pandas\n",
      "\u001b[?25l  Downloading https://files.pythonhosted.org/packages/3b/42/dc1f4820b95fbdbc9352ec9ad0f0c40db2122e1f2440ea53c7f9fbccf2b8/pandas-0.25.0-cp37-cp37m-manylinux1_x86_64.whl (10.4MB)\n",
      "\u001b[K     |████████████████████████████████| 10.4MB 3.3MB/s eta 0:00:01\n",
      "\u001b[?25hCollecting pytz>=2017.2 (from pandas)\n",
      "\u001b[?25l  Downloading https://files.pythonhosted.org/packages/87/76/46d697698a143e05f77bec5a526bf4e56a0be61d63425b68f4ba553b51f2/pytz-2019.2-py2.py3-none-any.whl (508kB)\n",
      "\u001b[K     |████████████████████████████████| 512kB 33.4MB/s eta 0:00:01\n",
      "\u001b[?25hCollecting numpy>=1.13.3 (from pandas)\n",
      "\u001b[?25l  Downloading https://files.pythonhosted.org/packages/05/4b/55cfbfd3e5e85016eeef9f21c0ec809d978706a0d60b62cc28aeec8c792f/numpy-1.17.0-cp37-cp37m-manylinux1_x86_64.whl (20.3MB)\n",
      "\u001b[K     |████████████████████████████████| 20.3MB 29.8MB/s eta 0:00:01��████████████████████▋  | 18.8MB 29.8MB/s eta 0:00:01\n",
      "\u001b[?25hRequirement already satisfied: python-dateutil>=2.6.1 in /srv/conda/envs/notebook/lib/python3.7/site-packages (from pandas) (2.8.0)\n",
      "Requirement already satisfied: six>=1.5 in /srv/conda/envs/notebook/lib/python3.7/site-packages (from python-dateutil>=2.6.1->pandas) (1.12.0)\n",
      "Installing collected packages: pytz, numpy, pandas\n",
      "Successfully installed numpy-1.17.0 pandas-0.25.0 pytz-2019.2\n",
      "Note: you may need to restart the kernel to use updated packages.\n"
     ]
    }
   ],
   "source": [
    "pip install pandas"
   ]
  },
  {
   "cell_type": "code",
   "execution_count": 2,
   "metadata": {
    "scrolled": false
   },
   "outputs": [
    {
     "name": "stdout",
     "output_type": "stream",
     "text": [
      "Requirement already satisfied: numpy in /srv/conda/envs/notebook/lib/python3.7/site-packages (1.17.0)\n",
      "Note: you may need to restart the kernel to use updated packages.\n"
     ]
    }
   ],
   "source": [
    "pip install numpy"
   ]
  },
  {
   "cell_type": "code",
   "execution_count": 3,
   "metadata": {
    "scrolled": false
   },
   "outputs": [
    {
     "name": "stdout",
     "output_type": "stream",
     "text": [
      "Collecting matplotlib\n",
      "\u001b[?25l  Downloading https://files.pythonhosted.org/packages/19/7a/60bd79c5d79559150f8bba866dd7d434f0a170312e4d15e8aefa5faba294/matplotlib-3.1.1-cp37-cp37m-manylinux1_x86_64.whl (13.1MB)\n",
      "\u001b[K     |████████████████████████████████| 13.1MB 3.4MB/s eta 0:00:01\n",
      "\u001b[?25hRequirement already satisfied: python-dateutil>=2.1 in /srv/conda/envs/notebook/lib/python3.7/site-packages (from matplotlib) (2.8.0)\n",
      "Collecting cycler>=0.10 (from matplotlib)\n",
      "  Downloading https://files.pythonhosted.org/packages/f7/d2/e07d3ebb2bd7af696440ce7e754c59dd546ffe1bbe732c8ab68b9c834e61/cycler-0.10.0-py2.py3-none-any.whl\n",
      "Collecting pyparsing!=2.0.4,!=2.1.2,!=2.1.6,>=2.0.1 (from matplotlib)\n",
      "\u001b[?25l  Downloading https://files.pythonhosted.org/packages/11/fa/0160cd525c62d7abd076a070ff02b2b94de589f1a9789774f17d7c54058e/pyparsing-2.4.2-py2.py3-none-any.whl (65kB)\n",
      "\u001b[K     |████████████████████████████████| 71kB 19.0MB/s eta 0:00:01\n",
      "\u001b[?25hCollecting kiwisolver>=1.0.1 (from matplotlib)\n",
      "\u001b[?25l  Downloading https://files.pythonhosted.org/packages/93/f8/518fb0bb89860eea6ff1b96483fbd9236d5ee991485d0f3eceff1770f654/kiwisolver-1.1.0-cp37-cp37m-manylinux1_x86_64.whl (90kB)\n",
      "\u001b[K     |████████████████████████████████| 92kB 21.2MB/s eta 0:00:01\n",
      "\u001b[?25hRequirement already satisfied: numpy>=1.11 in /srv/conda/envs/notebook/lib/python3.7/site-packages (from matplotlib) (1.17.0)\n",
      "Requirement already satisfied: six>=1.5 in /srv/conda/envs/notebook/lib/python3.7/site-packages (from python-dateutil>=2.1->matplotlib) (1.12.0)\n",
      "Requirement already satisfied: setuptools in /srv/conda/envs/notebook/lib/python3.7/site-packages (from kiwisolver>=1.0.1->matplotlib) (41.0.1)\n",
      "Installing collected packages: cycler, pyparsing, kiwisolver, matplotlib\n",
      "Successfully installed cycler-0.10.0 kiwisolver-1.1.0 matplotlib-3.1.1 pyparsing-2.4.2\n",
      "Note: you may need to restart the kernel to use updated packages.\n"
     ]
    }
   ],
   "source": [
    "pip install matplotlib"
   ]
  },
  {
   "cell_type": "code",
   "execution_count": 4,
   "metadata": {
    "scrolled": false
   },
   "outputs": [
    {
     "name": "stdout",
     "output_type": "stream",
     "text": [
      "Collecting scikit-learn\n",
      "\u001b[?25l  Downloading https://files.pythonhosted.org/packages/9f/c5/e5267eb84994e9a92a2c6a6ee768514f255d036f3c8378acfa694e9f2c99/scikit_learn-0.21.3-cp37-cp37m-manylinux1_x86_64.whl (6.7MB)\n",
      "\u001b[K     |████████████████████████████████| 6.7MB 3.3MB/s eta 0:00:01\n",
      "\u001b[?25hCollecting scipy>=0.17.0 (from scikit-learn)\n",
      "\u001b[?25l  Downloading https://files.pythonhosted.org/packages/94/7f/b535ec711cbcc3246abea4385d17e1b325d4c3404dd86f15fc4f3dba1dbb/scipy-1.3.1-cp37-cp37m-manylinux1_x86_64.whl (25.2MB)\n",
      "\u001b[K     |████████████████████████████████| 25.2MB 35.1MB/s eta 0:00:01\n",
      "\u001b[?25hCollecting joblib>=0.11 (from scikit-learn)\n",
      "\u001b[?25l  Downloading https://files.pythonhosted.org/packages/cd/c1/50a758e8247561e58cb87305b1e90b171b8c767b15b12a1734001f41d356/joblib-0.13.2-py2.py3-none-any.whl (278kB)\n",
      "\u001b[K     |████████████████████████████████| 286kB 29.4MB/s eta 0:00:01\n",
      "\u001b[?25hRequirement already satisfied: numpy>=1.11.0 in /srv/conda/envs/notebook/lib/python3.7/site-packages (from scikit-learn) (1.17.0)\n",
      "Installing collected packages: scipy, joblib, scikit-learn\n",
      "Successfully installed joblib-0.13.2 scikit-learn-0.21.3 scipy-1.3.1\n",
      "Note: you may need to restart the kernel to use updated packages.\n"
     ]
    }
   ],
   "source": [
    "pip install scikit-learn"
   ]
  },
  {
   "cell_type": "markdown",
   "metadata": {},
   "source": [
    "## Importing packages"
   ]
  },
  {
   "cell_type": "code",
   "execution_count": 5,
   "metadata": {
    "scrolled": false
   },
   "outputs": [],
   "source": [
    "import numpy as np\n",
    "import pandas as pd\n",
    "from matplotlib import pyplot as plt\n",
    "%matplotlib inline"
   ]
  },
  {
   "cell_type": "markdown",
   "metadata": {},
   "source": [
    "## Creating a DataFrame using the 'train.csv' file"
   ]
  },
  {
   "cell_type": "code",
   "execution_count": 6,
   "metadata": {
    "scrolled": false
   },
   "outputs": [
    {
     "data": {
      "text/html": [
       "<div>\n",
       "<style scoped>\n",
       "    .dataframe tbody tr th:only-of-type {\n",
       "        vertical-align: middle;\n",
       "    }\n",
       "\n",
       "    .dataframe tbody tr th {\n",
       "        vertical-align: top;\n",
       "    }\n",
       "\n",
       "    .dataframe thead th {\n",
       "        text-align: right;\n",
       "    }\n",
       "</style>\n",
       "<table border=\"1\" class=\"dataframe\">\n",
       "  <thead>\n",
       "    <tr style=\"text-align: right;\">\n",
       "      <th></th>\n",
       "      <th>Id</th>\n",
       "      <th>MSSubClass</th>\n",
       "      <th>MSZoning</th>\n",
       "      <th>LotFrontage</th>\n",
       "      <th>LotArea</th>\n",
       "      <th>Street</th>\n",
       "      <th>Alley</th>\n",
       "      <th>LotShape</th>\n",
       "      <th>LandContour</th>\n",
       "      <th>Utilities</th>\n",
       "      <th>...</th>\n",
       "      <th>PoolArea</th>\n",
       "      <th>PoolQC</th>\n",
       "      <th>Fence</th>\n",
       "      <th>MiscFeature</th>\n",
       "      <th>MiscVal</th>\n",
       "      <th>MoSold</th>\n",
       "      <th>YrSold</th>\n",
       "      <th>SaleType</th>\n",
       "      <th>SaleCondition</th>\n",
       "      <th>SalePrice</th>\n",
       "    </tr>\n",
       "  </thead>\n",
       "  <tbody>\n",
       "    <tr>\n",
       "      <th>0</th>\n",
       "      <td>1</td>\n",
       "      <td>60</td>\n",
       "      <td>RL</td>\n",
       "      <td>65.0</td>\n",
       "      <td>8450</td>\n",
       "      <td>Pave</td>\n",
       "      <td>NaN</td>\n",
       "      <td>Reg</td>\n",
       "      <td>Lvl</td>\n",
       "      <td>AllPub</td>\n",
       "      <td>...</td>\n",
       "      <td>0</td>\n",
       "      <td>NaN</td>\n",
       "      <td>NaN</td>\n",
       "      <td>NaN</td>\n",
       "      <td>0</td>\n",
       "      <td>2</td>\n",
       "      <td>2008</td>\n",
       "      <td>WD</td>\n",
       "      <td>Normal</td>\n",
       "      <td>208500</td>\n",
       "    </tr>\n",
       "    <tr>\n",
       "      <th>1</th>\n",
       "      <td>2</td>\n",
       "      <td>20</td>\n",
       "      <td>RL</td>\n",
       "      <td>80.0</td>\n",
       "      <td>9600</td>\n",
       "      <td>Pave</td>\n",
       "      <td>NaN</td>\n",
       "      <td>Reg</td>\n",
       "      <td>Lvl</td>\n",
       "      <td>AllPub</td>\n",
       "      <td>...</td>\n",
       "      <td>0</td>\n",
       "      <td>NaN</td>\n",
       "      <td>NaN</td>\n",
       "      <td>NaN</td>\n",
       "      <td>0</td>\n",
       "      <td>5</td>\n",
       "      <td>2007</td>\n",
       "      <td>WD</td>\n",
       "      <td>Normal</td>\n",
       "      <td>181500</td>\n",
       "    </tr>\n",
       "    <tr>\n",
       "      <th>2</th>\n",
       "      <td>3</td>\n",
       "      <td>60</td>\n",
       "      <td>RL</td>\n",
       "      <td>68.0</td>\n",
       "      <td>11250</td>\n",
       "      <td>Pave</td>\n",
       "      <td>NaN</td>\n",
       "      <td>IR1</td>\n",
       "      <td>Lvl</td>\n",
       "      <td>AllPub</td>\n",
       "      <td>...</td>\n",
       "      <td>0</td>\n",
       "      <td>NaN</td>\n",
       "      <td>NaN</td>\n",
       "      <td>NaN</td>\n",
       "      <td>0</td>\n",
       "      <td>9</td>\n",
       "      <td>2008</td>\n",
       "      <td>WD</td>\n",
       "      <td>Normal</td>\n",
       "      <td>223500</td>\n",
       "    </tr>\n",
       "    <tr>\n",
       "      <th>3</th>\n",
       "      <td>4</td>\n",
       "      <td>70</td>\n",
       "      <td>RL</td>\n",
       "      <td>60.0</td>\n",
       "      <td>9550</td>\n",
       "      <td>Pave</td>\n",
       "      <td>NaN</td>\n",
       "      <td>IR1</td>\n",
       "      <td>Lvl</td>\n",
       "      <td>AllPub</td>\n",
       "      <td>...</td>\n",
       "      <td>0</td>\n",
       "      <td>NaN</td>\n",
       "      <td>NaN</td>\n",
       "      <td>NaN</td>\n",
       "      <td>0</td>\n",
       "      <td>2</td>\n",
       "      <td>2006</td>\n",
       "      <td>WD</td>\n",
       "      <td>Abnorml</td>\n",
       "      <td>140000</td>\n",
       "    </tr>\n",
       "    <tr>\n",
       "      <th>4</th>\n",
       "      <td>5</td>\n",
       "      <td>60</td>\n",
       "      <td>RL</td>\n",
       "      <td>84.0</td>\n",
       "      <td>14260</td>\n",
       "      <td>Pave</td>\n",
       "      <td>NaN</td>\n",
       "      <td>IR1</td>\n",
       "      <td>Lvl</td>\n",
       "      <td>AllPub</td>\n",
       "      <td>...</td>\n",
       "      <td>0</td>\n",
       "      <td>NaN</td>\n",
       "      <td>NaN</td>\n",
       "      <td>NaN</td>\n",
       "      <td>0</td>\n",
       "      <td>12</td>\n",
       "      <td>2008</td>\n",
       "      <td>WD</td>\n",
       "      <td>Normal</td>\n",
       "      <td>250000</td>\n",
       "    </tr>\n",
       "  </tbody>\n",
       "</table>\n",
       "<p>5 rows × 81 columns</p>\n",
       "</div>"
      ],
      "text/plain": [
       "   Id  MSSubClass MSZoning  LotFrontage  LotArea Street Alley LotShape  \\\n",
       "0   1          60       RL         65.0     8450   Pave   NaN      Reg   \n",
       "1   2          20       RL         80.0     9600   Pave   NaN      Reg   \n",
       "2   3          60       RL         68.0    11250   Pave   NaN      IR1   \n",
       "3   4          70       RL         60.0     9550   Pave   NaN      IR1   \n",
       "4   5          60       RL         84.0    14260   Pave   NaN      IR1   \n",
       "\n",
       "  LandContour Utilities  ... PoolArea PoolQC Fence MiscFeature MiscVal MoSold  \\\n",
       "0         Lvl    AllPub  ...        0    NaN   NaN         NaN       0      2   \n",
       "1         Lvl    AllPub  ...        0    NaN   NaN         NaN       0      5   \n",
       "2         Lvl    AllPub  ...        0    NaN   NaN         NaN       0      9   \n",
       "3         Lvl    AllPub  ...        0    NaN   NaN         NaN       0      2   \n",
       "4         Lvl    AllPub  ...        0    NaN   NaN         NaN       0     12   \n",
       "\n",
       "  YrSold  SaleType  SaleCondition  SalePrice  \n",
       "0   2008        WD         Normal     208500  \n",
       "1   2007        WD         Normal     181500  \n",
       "2   2008        WD         Normal     223500  \n",
       "3   2006        WD        Abnorml     140000  \n",
       "4   2008        WD         Normal     250000  \n",
       "\n",
       "[5 rows x 81 columns]"
      ]
     },
     "execution_count": 6,
     "metadata": {},
     "output_type": "execute_result"
    }
   ],
   "source": [
    "df = pd.read_csv('train.csv')\n",
    "df.head()"
   ]
  },
  {
   "cell_type": "code",
   "execution_count": 7,
   "metadata": {
    "scrolled": false
   },
   "outputs": [
    {
     "data": {
      "text/plain": [
       "Id                 int64\n",
       "MSSubClass         int64\n",
       "MSZoning          object\n",
       "LotFrontage      float64\n",
       "LotArea            int64\n",
       "                  ...   \n",
       "MoSold             int64\n",
       "YrSold             int64\n",
       "SaleType          object\n",
       "SaleCondition     object\n",
       "SalePrice          int64\n",
       "Length: 81, dtype: object"
      ]
     },
     "execution_count": 7,
     "metadata": {},
     "output_type": "execute_result"
    }
   ],
   "source": [
    "df.dtypes"
   ]
  },
  {
   "cell_type": "code",
   "execution_count": 8,
   "metadata": {
    "scrolled": false
   },
   "outputs": [
    {
     "data": {
      "text/plain": [
       "Id                 0\n",
       "MSSubClass         0\n",
       "MSZoning           0\n",
       "LotFrontage      259\n",
       "LotArea            0\n",
       "                ... \n",
       "MoSold             0\n",
       "YrSold             0\n",
       "SaleType           0\n",
       "SaleCondition      0\n",
       "SalePrice          0\n",
       "Length: 81, dtype: int64"
      ]
     },
     "execution_count": 8,
     "metadata": {},
     "output_type": "execute_result"
    }
   ],
   "source": [
    "df.isnull().sum()"
   ]
  },
  {
   "cell_type": "code",
   "execution_count": 9,
   "metadata": {},
   "outputs": [],
   "source": [
    "df['LotFrontage'].fillna(0, inplace = True)\n",
    "df['Alley'].fillna('NA', inplace = True)\n",
    "df['MasVnrType'].fillna('NA', inplace = True)\n",
    "df['MasVnrArea'].fillna('NA', inplace = True)\n",
    "df['BsmtQual'].fillna('NA', inplace = True)\n",
    "df['BsmtCond'].fillna('NA', inplace = True)\n",
    "df['BsmtExposure'].fillna('NA', inplace = True)\n",
    "df['BsmtFinType1'].fillna('NA', inplace = True)\n",
    "df['BsmtFinType2'].fillna('NA', inplace = True)\n",
    "df['Electrical'].fillna('NA', inplace = True)\n",
    "df['FireplaceQu'].fillna('NA', inplace = True)\n",
    "df['GarageType'].fillna('NA', inplace = True)\n",
    "df['GarageYrBlt'].fillna('NA', inplace = True)\n",
    "df['GarageFinish'].fillna('NA', inplace = True)\n",
    "df['GarageQual'].fillna('NA', inplace = True)\n",
    "df['GarageCond'].fillna('NA', inplace = True)\n",
    "df['PoolQC'].fillna('NA', inplace = True)\n",
    "df['Fence'].fillna('NA', inplace = True)\n",
    "df['MiscFeature'].fillna('NA', inplace = True)"
   ]
  },
  {
   "cell_type": "code",
   "execution_count": 10,
   "metadata": {},
   "outputs": [],
   "source": [
    "df.drop(df[(df['LotFrontage'] == 0) & (df['Alley'] != 'NA')].index, inplace = True)\n",
    "df = df.reset_index(drop =True)"
   ]
  },
  {
   "cell_type": "code",
   "execution_count": 11,
   "metadata": {},
   "outputs": [],
   "source": [
    "df.drop(df[df['MasVnrType'] == 'NA'].index, inplace = True)\n",
    "df = df.reset_index(drop = True)"
   ]
  },
  {
   "cell_type": "code",
   "execution_count": 12,
   "metadata": {},
   "outputs": [],
   "source": [
    "df.drop(df[df['MasVnrArea'] == 'NA'].index, inplace = True)\n",
    "df = df.reset_index(drop = True)\n",
    "df['MasVnrArea'] = df['MasVnrArea'].astype(np.int64)"
   ]
  },
  {
   "cell_type": "code",
   "execution_count": 13,
   "metadata": {},
   "outputs": [],
   "source": [
    "df.drop(df[(df['BsmtExposure'] == 'NA') & (df['BsmtQual'] != 'NA')].index, inplace = True)\n",
    "df = df.reset_index(drop = True)"
   ]
  },
  {
   "cell_type": "code",
   "execution_count": 14,
   "metadata": {},
   "outputs": [],
   "source": [
    "df.drop(df[df['Electrical'] == 'NA'].index, inplace = True)\n",
    "df = df.reset_index(drop = True)"
   ]
  },
  {
   "cell_type": "code",
   "execution_count": 15,
   "metadata": {},
   "outputs": [],
   "source": [
    "df.drop(df[(df['MiscVal'] == 0) & (df['MiscFeature'] != 'NA')].index, inplace = True)\n",
    "df = df.reset_index(drop = True)"
   ]
  },
  {
   "cell_type": "code",
   "execution_count": 16,
   "metadata": {
    "scrolled": false
   },
   "outputs": [],
   "source": [
    "df['MSSubClass'] = pd.Categorical(df.MSSubClass)\n",
    "df['MSZoning'] = pd.Categorical(df.MSZoning)\n",
    "df['Street'] = pd.Categorical(df.Street)\n",
    "df['Alley'] = pd.Categorical(df.Alley)\n",
    "df['LotShape'] = pd.Categorical(df.LotShape)\n",
    "df['LandContour'] = pd.Categorical(df.LandContour)\n",
    "df['Utilities'] = pd.Categorical(df.Utilities)\n",
    "df['LotConfig'] = pd.Categorical(df.LotConfig)\n",
    "df['LandSlope'] = pd.Categorical(df.LandSlope)\n",
    "df['Neighborhood'] = pd.Categorical(df.Neighborhood)\n",
    "df['Condition1'] = pd.Categorical(df.Condition1)\n",
    "df['Condition2'] = pd.Categorical(df.Condition2)\n",
    "df['BldgType'] = pd.Categorical(df.BldgType)\n",
    "df['HouseStyle'] = pd.Categorical(df.HouseStyle)\n",
    "df['OverallQual'] = pd.Categorical(df.OverallQual)\n",
    "df['OverallCond'] = pd.Categorical(df.OverallCond)\n",
    "df['YearBuilt'] = pd.Categorical(df.YearBuilt)\n",
    "df['YearRemodAdd'] = pd.Categorical(df.YearRemodAdd)\n",
    "df['RoofStyle'] = pd.Categorical(df.RoofStyle)\n",
    "df['RoofMatl'] = pd.Categorical(df.RoofMatl)\n",
    "df['Exterior1st'] = pd.Categorical(df.Exterior1st)\n",
    "df['Exterior2nd'] = pd.Categorical(df.Exterior2nd)\n",
    "df['MasVnrType'] = pd.Categorical(df.MasVnrType)\n",
    "df['ExterQual'] = pd.Categorical(df.ExterQual)\n",
    "df['ExterCond'] = pd.Categorical(df.ExterCond)\n",
    "df['Foundation'] = pd.Categorical(df.Foundation)\n",
    "df['BsmtQual'] = pd.Categorical(df.BsmtQual)\n",
    "df['BsmtCond'] = pd.Categorical(df.BsmtCond)\n",
    "df['BsmtQual'] = pd.Categorical(df.BsmtQual)\n",
    "df['BsmtExposure'] = pd.Categorical(df.BsmtExposure)\n",
    "df['BsmtFinType1'] = pd.Categorical(df.BsmtFinType1)\n",
    "df['BsmtFinType2'] = pd.Categorical(df.BsmtFinType2)\n",
    "df['Heating'] = pd.Categorical(df.Heating)\n",
    "df['HeatingQC'] = pd.Categorical(df.HeatingQC)\n",
    "df['Electrical'] = pd.Categorical(df.Electrical)\n",
    "df['KitchenQual'] = pd.Categorical(df.KitchenQual)\n",
    "df['Functional'] = pd.Categorical(df.Functional)\n",
    "df['FireplaceQu'] = pd.Categorical(df.FireplaceQu)\n",
    "df['GarageType'] = pd.Categorical(df.GarageType)\n",
    "df['GarageYrBlt'] = pd.Categorical(df.GarageYrBlt)\n",
    "df['GarageFinish'] = pd.Categorical(df.GarageFinish)\n",
    "df['GarageQual'] = pd.Categorical(df.GarageQual)\n",
    "df['GarageCond'] = pd.Categorical(df.GarageCond)\n",
    "df['PavedDrive'] = pd.Categorical(df.PavedDrive)\n",
    "df['PoolQC'] = pd.Categorical(df.PoolQC)\n",
    "df['Fence'] = pd.Categorical(df.Fence)\n",
    "df['MiscFeature'] = pd.Categorical(df.MiscFeature)\n",
    "df['MoSold'] = pd.Categorical(df.MoSold)\n",
    "df['YrSold'] = pd.Categorical(df.YrSold)\n",
    "df['SaleType'] = pd.Categorical(df.SaleType)\n",
    "df['SaleCondition'] = pd.Categorical(df.SaleCondition)"
   ]
  },
  {
   "cell_type": "code",
   "execution_count": 17,
   "metadata": {
    "scrolled": false
   },
   "outputs": [
    {
     "data": {
      "text/plain": [
       "Id                  int64\n",
       "MSSubClass       category\n",
       "MSZoning         category\n",
       "LotFrontage       float64\n",
       "LotArea             int64\n",
       "                   ...   \n",
       "MoSold           category\n",
       "YrSold           category\n",
       "SaleType         category\n",
       "SaleCondition    category\n",
       "SalePrice           int64\n",
       "Length: 81, dtype: object"
      ]
     },
     "execution_count": 17,
     "metadata": {},
     "output_type": "execute_result"
    }
   ],
   "source": [
    "df.dtypes"
   ]
  },
  {
   "cell_type": "code",
   "execution_count": 18,
   "metadata": {
    "scrolled": false
   },
   "outputs": [],
   "source": [
    "d = {'N': False, 'Y': True}\n",
    "df['CentralAir'] = df['CentralAir'].map(d)"
   ]
  },
  {
   "cell_type": "code",
   "execution_count": 19,
   "metadata": {
    "scrolled": true
   },
   "outputs": [
    {
     "data": {
      "text/plain": [
       "0       True\n",
       "1       True\n",
       "2       True\n",
       "3       True\n",
       "4       True\n",
       "        ... \n",
       "1438    True\n",
       "1439    True\n",
       "1440    True\n",
       "1441    True\n",
       "1442    True\n",
       "Name: CentralAir, Length: 1443, dtype: bool"
      ]
     },
     "execution_count": 19,
     "metadata": {},
     "output_type": "execute_result"
    }
   ],
   "source": [
    "df['CentralAir']"
   ]
  },
  {
   "cell_type": "code",
   "execution_count": 20,
   "metadata": {
    "scrolled": false
   },
   "outputs": [],
   "source": [
    "len = df.shape[0]\n",
    "for i in range(0, len):\n",
    "    if df.loc[i, 'YearBuilt'] == df.loc[i, 'YearRemodAdd']:\n",
    "        df.loc[i, 'Remod'] = False\n",
    "    else:\n",
    "        df.loc[i, 'Remod'] = True"
   ]
  },
  {
   "cell_type": "code",
   "execution_count": 21,
   "metadata": {
    "scrolled": false
   },
   "outputs": [
    {
     "data": {
      "text/plain": [
       "0       False\n",
       "1       False\n",
       "2        True\n",
       "3        True\n",
       "4       False\n",
       "        ...  \n",
       "1438     True\n",
       "1439     True\n",
       "1440     True\n",
       "1441     True\n",
       "1442    False\n",
       "Name: Remod, Length: 1443, dtype: bool"
      ]
     },
     "execution_count": 21,
     "metadata": {},
     "output_type": "execute_result"
    }
   ],
   "source": [
    "df['Remod']"
   ]
  },
  {
   "cell_type": "code",
   "execution_count": 22,
   "metadata": {
    "scrolled": false
   },
   "outputs": [],
   "source": [
    "for i in range(0, len):\n",
    "    if df.loc[i, 'MoSold'] < 10:\n",
    "        df.loc[i, 'TimeSold'] = str(0) + str(df.loc[i, 'MoSold']) + \"-\" + str(df.loc[i, 'YrSold'])\n",
    "    else:\n",
    "        df.loc[i, 'TimeSold'] = str(df.loc[i, 'MoSold']) + \"-\" + str(df.loc[i, 'YrSold'])"
   ]
  },
  {
   "cell_type": "code",
   "execution_count": 23,
   "metadata": {
    "scrolled": false
   },
   "outputs": [],
   "source": [
    "df['TimeSold'] = pd.Categorical(df.TimeSold)"
   ]
  },
  {
   "cell_type": "code",
   "execution_count": 24,
   "metadata": {
    "scrolled": false
   },
   "outputs": [
    {
     "data": {
      "text/plain": [
       "0       02-2008\n",
       "1       05-2007\n",
       "2       09-2008\n",
       "3       02-2006\n",
       "4       12-2008\n",
       "         ...   \n",
       "1438    08-2007\n",
       "1439    02-2010\n",
       "1440    05-2010\n",
       "1441    04-2010\n",
       "1442    06-2008\n",
       "Name: TimeSold, Length: 1443, dtype: category\n",
       "Categories (55, object): [01-2006, 01-2007, 01-2008, 01-2009, ..., 12-2006, 12-2007, 12-2008, 12-2009]"
      ]
     },
     "execution_count": 24,
     "metadata": {},
     "output_type": "execute_result"
    }
   ],
   "source": [
    "df['TimeSold']"
   ]
  },
  {
   "cell_type": "code",
   "execution_count": 25,
   "metadata": {},
   "outputs": [],
   "source": [
    "for i in range (0, len):\n",
    "    if df.loc[i, 'LotFrontage'] == 0:\n",
    "        df.loc[i, 'LotFrontage'] = (df.loc[i, 'LotArea'] - 146) / 140"
   ]
  },
  {
   "cell_type": "code",
   "execution_count": 26,
   "metadata": {},
   "outputs": [],
   "source": [
    "df['LotFrontage'] = df['LotFrontage'].astype(np.int64)"
   ]
  },
  {
   "cell_type": "code",
   "execution_count": 27,
   "metadata": {},
   "outputs": [
    {
     "data": {
      "text/plain": [
       "Id                  int64\n",
       "MSSubClass       category\n",
       "MSZoning         category\n",
       "LotFrontage         int64\n",
       "LotArea             int64\n",
       "                   ...   \n",
       "SaleType         category\n",
       "SaleCondition    category\n",
       "SalePrice           int64\n",
       "Remod                bool\n",
       "TimeSold         category\n",
       "Length: 83, dtype: object"
      ]
     },
     "execution_count": 27,
     "metadata": {},
     "output_type": "execute_result"
    }
   ],
   "source": [
    "df.dtypes"
   ]
  },
  {
   "cell_type": "code",
   "execution_count": 28,
   "metadata": {
    "scrolled": false
   },
   "outputs": [
    {
     "data": {
      "text/plain": [
       "Id                int64\n",
       "MSSubClass     category\n",
       "MSZoning       category\n",
       "LotFrontage       int64\n",
       "LotArea           int64\n",
       "Street         category\n",
       "Alley          category\n",
       "LotShape       category\n",
       "LandContour    category\n",
       "Utilities      category\n",
       "dtype: object"
      ]
     },
     "execution_count": 28,
     "metadata": {},
     "output_type": "execute_result"
    }
   ],
   "source": [
    "df.loc[:,'Id':'Utilities'].dtypes"
   ]
  },
  {
   "cell_type": "code",
   "execution_count": 29,
   "metadata": {},
   "outputs": [
    {
     "data": {
      "text/plain": [
       "Id             0\n",
       "MSSubClass     0\n",
       "MSZoning       0\n",
       "LotFrontage    0\n",
       "LotArea        0\n",
       "Street         0\n",
       "Alley          0\n",
       "LotShape       0\n",
       "LandContour    0\n",
       "Utilities      0\n",
       "dtype: int64"
      ]
     },
     "execution_count": 29,
     "metadata": {},
     "output_type": "execute_result"
    }
   ],
   "source": [
    "df.loc[:,'Id':'Utilities'].isnull().sum()"
   ]
  },
  {
   "cell_type": "code",
   "execution_count": 30,
   "metadata": {},
   "outputs": [
    {
     "data": {
      "text/plain": [
       "0       65\n",
       "1       80\n",
       "2       68\n",
       "3       60\n",
       "4       84\n",
       "        ..\n",
       "1438    62\n",
       "1439    85\n",
       "1440    66\n",
       "1441    68\n",
       "1442    75\n",
       "Name: LotFrontage, Length: 1443, dtype: int64"
      ]
     },
     "execution_count": 30,
     "metadata": {},
     "output_type": "execute_result"
    }
   ],
   "source": [
    "df['LotFrontage']"
   ]
  },
  {
   "cell_type": "code",
   "execution_count": 31,
   "metadata": {},
   "outputs": [
    {
     "data": {
      "text/plain": [
       "0       NA\n",
       "1       NA\n",
       "2       NA\n",
       "3       NA\n",
       "4       NA\n",
       "        ..\n",
       "1438    NA\n",
       "1439    NA\n",
       "1440    NA\n",
       "1441    NA\n",
       "1442    NA\n",
       "Name: Alley, Length: 1443, dtype: category\n",
       "Categories (3, object): [Grvl, NA, Pave]"
      ]
     },
     "execution_count": 31,
     "metadata": {},
     "output_type": "execute_result"
    }
   ],
   "source": [
    "df['Alley']"
   ]
  },
  {
   "cell_type": "code",
   "execution_count": 32,
   "metadata": {},
   "outputs": [
    {
     "data": {
      "text/plain": [
       "LotConfig       category\n",
       "LandSlope       category\n",
       "Neighborhood    category\n",
       "Condition1      category\n",
       "Condition2      category\n",
       "BldgType        category\n",
       "HouseStyle      category\n",
       "OverallQual     category\n",
       "OverallCond     category\n",
       "YearBuilt       category\n",
       "dtype: object"
      ]
     },
     "execution_count": 32,
     "metadata": {},
     "output_type": "execute_result"
    }
   ],
   "source": [
    "df.loc[:,'LotConfig':'YearBuilt'].dtypes"
   ]
  },
  {
   "cell_type": "code",
   "execution_count": 33,
   "metadata": {},
   "outputs": [
    {
     "data": {
      "text/plain": [
       "LotConfig       0\n",
       "LandSlope       0\n",
       "Neighborhood    0\n",
       "Condition1      0\n",
       "Condition2      0\n",
       "BldgType        0\n",
       "HouseStyle      0\n",
       "OverallQual     0\n",
       "OverallCond     0\n",
       "YearBuilt       0\n",
       "dtype: int64"
      ]
     },
     "execution_count": 33,
     "metadata": {},
     "output_type": "execute_result"
    }
   ],
   "source": [
    "df.loc[:,'LotConfig':'YearBuilt'].isnull().sum()"
   ]
  },
  {
   "cell_type": "code",
   "execution_count": 34,
   "metadata": {},
   "outputs": [
    {
     "data": {
      "text/plain": [
       "YearRemodAdd    category\n",
       "RoofStyle       category\n",
       "RoofMatl        category\n",
       "Exterior1st     category\n",
       "Exterior2nd     category\n",
       "MasVnrType      category\n",
       "MasVnrArea         int64\n",
       "ExterQual       category\n",
       "ExterCond       category\n",
       "Foundation      category\n",
       "dtype: object"
      ]
     },
     "execution_count": 34,
     "metadata": {},
     "output_type": "execute_result"
    }
   ],
   "source": [
    "df.loc[:,'YearRemodAdd':'Foundation'].dtypes"
   ]
  },
  {
   "cell_type": "code",
   "execution_count": 35,
   "metadata": {},
   "outputs": [
    {
     "data": {
      "text/plain": [
       "YearRemodAdd    0\n",
       "RoofStyle       0\n",
       "RoofMatl        0\n",
       "Exterior1st     0\n",
       "Exterior2nd     0\n",
       "MasVnrType      0\n",
       "MasVnrArea      0\n",
       "ExterQual       0\n",
       "ExterCond       0\n",
       "Foundation      0\n",
       "dtype: int64"
      ]
     },
     "execution_count": 35,
     "metadata": {},
     "output_type": "execute_result"
    }
   ],
   "source": [
    "df.loc[:,'YearRemodAdd':'Foundation'].isnull().sum()"
   ]
  },
  {
   "cell_type": "code",
   "execution_count": 36,
   "metadata": {},
   "outputs": [
    {
     "data": {
      "text/plain": [
       "BsmtQual        category\n",
       "BsmtCond        category\n",
       "BsmtExposure    category\n",
       "BsmtFinType1    category\n",
       "BsmtFinSF1         int64\n",
       "BsmtFinType2    category\n",
       "BsmtFinSF2         int64\n",
       "BsmtUnfSF          int64\n",
       "TotalBsmtSF        int64\n",
       "Heating         category\n",
       "dtype: object"
      ]
     },
     "execution_count": 36,
     "metadata": {},
     "output_type": "execute_result"
    }
   ],
   "source": [
    "df.loc[:,'BsmtQual':'Heating'].dtypes"
   ]
  },
  {
   "cell_type": "code",
   "execution_count": 37,
   "metadata": {},
   "outputs": [
    {
     "data": {
      "text/plain": [
       "BsmtQual        0\n",
       "BsmtCond        0\n",
       "BsmtExposure    0\n",
       "BsmtFinType1    0\n",
       "BsmtFinSF1      0\n",
       "BsmtFinType2    0\n",
       "BsmtFinSF2      0\n",
       "BsmtUnfSF       0\n",
       "TotalBsmtSF     0\n",
       "Heating         0\n",
       "dtype: int64"
      ]
     },
     "execution_count": 37,
     "metadata": {},
     "output_type": "execute_result"
    }
   ],
   "source": [
    "df.loc[:,'BsmtQual':'Heating'].isnull().sum()"
   ]
  },
  {
   "cell_type": "code",
   "execution_count": 38,
   "metadata": {},
   "outputs": [
    {
     "data": {
      "text/plain": [
       "0       Gd\n",
       "1       Gd\n",
       "2       Gd\n",
       "3       TA\n",
       "4       Gd\n",
       "        ..\n",
       "1438    Gd\n",
       "1439    Gd\n",
       "1440    TA\n",
       "1441    TA\n",
       "1442    TA\n",
       "Name: BsmtQual, Length: 1443, dtype: category\n",
       "Categories (5, object): [Ex, Fa, Gd, NA, TA]"
      ]
     },
     "execution_count": 38,
     "metadata": {},
     "output_type": "execute_result"
    }
   ],
   "source": [
    "df['BsmtQual']"
   ]
  },
  {
   "cell_type": "code",
   "execution_count": 39,
   "metadata": {},
   "outputs": [
    {
     "data": {
      "text/plain": [
       "0       TA\n",
       "1       TA\n",
       "2       TA\n",
       "3       Gd\n",
       "4       TA\n",
       "        ..\n",
       "1438    TA\n",
       "1439    TA\n",
       "1440    Gd\n",
       "1441    TA\n",
       "1442    TA\n",
       "Name: BsmtCond, Length: 1443, dtype: category\n",
       "Categories (5, object): [Fa, Gd, NA, Po, TA]"
      ]
     },
     "execution_count": 39,
     "metadata": {},
     "output_type": "execute_result"
    }
   ],
   "source": [
    "df['BsmtCond']"
   ]
  },
  {
   "cell_type": "code",
   "execution_count": 40,
   "metadata": {},
   "outputs": [
    {
     "data": {
      "text/plain": [
       "0       No\n",
       "1       Gd\n",
       "2       Mn\n",
       "3       No\n",
       "4       Av\n",
       "        ..\n",
       "1438    No\n",
       "1439    No\n",
       "1440    No\n",
       "1441    Mn\n",
       "1442    No\n",
       "Name: BsmtExposure, Length: 1443, dtype: category\n",
       "Categories (5, object): [Av, Gd, Mn, NA, No]"
      ]
     },
     "execution_count": 40,
     "metadata": {},
     "output_type": "execute_result"
    }
   ],
   "source": [
    "df['BsmtExposure']"
   ]
  },
  {
   "cell_type": "code",
   "execution_count": 41,
   "metadata": {},
   "outputs": [
    {
     "data": {
      "text/plain": [
       "0       GLQ\n",
       "1       ALQ\n",
       "2       GLQ\n",
       "3       ALQ\n",
       "4       GLQ\n",
       "       ... \n",
       "1438    Unf\n",
       "1439    ALQ\n",
       "1440    GLQ\n",
       "1441    GLQ\n",
       "1442    BLQ\n",
       "Name: BsmtFinType1, Length: 1443, dtype: category\n",
       "Categories (7, object): [ALQ, BLQ, GLQ, LwQ, NA, Rec, Unf]"
      ]
     },
     "execution_count": 41,
     "metadata": {},
     "output_type": "execute_result"
    }
   ],
   "source": [
    "df['BsmtFinType1']"
   ]
  },
  {
   "cell_type": "code",
   "execution_count": 42,
   "metadata": {},
   "outputs": [
    {
     "data": {
      "text/plain": [
       "0       Unf\n",
       "1       Unf\n",
       "2       Unf\n",
       "3       Unf\n",
       "4       Unf\n",
       "       ... \n",
       "1438    Unf\n",
       "1439    Rec\n",
       "1440    Unf\n",
       "1441    Rec\n",
       "1442    LwQ\n",
       "Name: BsmtFinType2, Length: 1443, dtype: category\n",
       "Categories (7, object): [ALQ, BLQ, GLQ, LwQ, NA, Rec, Unf]"
      ]
     },
     "execution_count": 42,
     "metadata": {},
     "output_type": "execute_result"
    }
   ],
   "source": [
    "df['BsmtFinType2']"
   ]
  },
  {
   "cell_type": "code",
   "execution_count": 43,
   "metadata": {},
   "outputs": [
    {
     "data": {
      "text/plain": [
       "HeatingQC       category\n",
       "CentralAir          bool\n",
       "Electrical      category\n",
       "1stFlrSF           int64\n",
       "2ndFlrSF           int64\n",
       "LowQualFinSF       int64\n",
       "GrLivArea          int64\n",
       "BsmtFullBath       int64\n",
       "BsmtHalfBath       int64\n",
       "FullBath           int64\n",
       "dtype: object"
      ]
     },
     "execution_count": 43,
     "metadata": {},
     "output_type": "execute_result"
    }
   ],
   "source": [
    "df.loc[:,'HeatingQC':'FullBath'].dtypes"
   ]
  },
  {
   "cell_type": "code",
   "execution_count": 44,
   "metadata": {},
   "outputs": [
    {
     "data": {
      "text/plain": [
       "HeatingQC       0\n",
       "CentralAir      0\n",
       "Electrical      0\n",
       "1stFlrSF        0\n",
       "2ndFlrSF        0\n",
       "LowQualFinSF    0\n",
       "GrLivArea       0\n",
       "BsmtFullBath    0\n",
       "BsmtHalfBath    0\n",
       "FullBath        0\n",
       "dtype: int64"
      ]
     },
     "execution_count": 44,
     "metadata": {},
     "output_type": "execute_result"
    }
   ],
   "source": [
    "df.loc[:,'HeatingQC':'FullBath'].isnull().sum()"
   ]
  },
  {
   "cell_type": "code",
   "execution_count": 45,
   "metadata": {},
   "outputs": [
    {
     "data": {
      "text/plain": [
       "0       SBrkr\n",
       "1       SBrkr\n",
       "2       SBrkr\n",
       "3       SBrkr\n",
       "4       SBrkr\n",
       "        ...  \n",
       "1438    SBrkr\n",
       "1439    SBrkr\n",
       "1440    SBrkr\n",
       "1441    FuseA\n",
       "1442    SBrkr\n",
       "Name: Electrical, Length: 1443, dtype: category\n",
       "Categories (5, object): [FuseA, FuseF, FuseP, Mix, SBrkr]"
      ]
     },
     "execution_count": 45,
     "metadata": {},
     "output_type": "execute_result"
    }
   ],
   "source": [
    "df['Electrical']"
   ]
  },
  {
   "cell_type": "code",
   "execution_count": 46,
   "metadata": {},
   "outputs": [
    {
     "data": {
      "text/plain": [
       "HalfBath           int64\n",
       "BedroomAbvGr       int64\n",
       "KitchenAbvGr       int64\n",
       "KitchenQual     category\n",
       "TotRmsAbvGrd       int64\n",
       "Functional      category\n",
       "Fireplaces         int64\n",
       "FireplaceQu     category\n",
       "GarageType      category\n",
       "GarageYrBlt     category\n",
       "dtype: object"
      ]
     },
     "execution_count": 46,
     "metadata": {},
     "output_type": "execute_result"
    }
   ],
   "source": [
    "df.loc[:,'HalfBath':'GarageYrBlt'].dtypes"
   ]
  },
  {
   "cell_type": "code",
   "execution_count": 47,
   "metadata": {},
   "outputs": [
    {
     "data": {
      "text/plain": [
       "HalfBath        0\n",
       "BedroomAbvGr    0\n",
       "KitchenAbvGr    0\n",
       "KitchenQual     0\n",
       "TotRmsAbvGrd    0\n",
       "Functional      0\n",
       "Fireplaces      0\n",
       "FireplaceQu     0\n",
       "GarageType      0\n",
       "GarageYrBlt     0\n",
       "dtype: int64"
      ]
     },
     "execution_count": 47,
     "metadata": {},
     "output_type": "execute_result"
    }
   ],
   "source": [
    "df.loc[:,'HalfBath':'GarageYrBlt'].isnull().sum()"
   ]
  },
  {
   "cell_type": "code",
   "execution_count": 48,
   "metadata": {},
   "outputs": [
    {
     "data": {
      "text/plain": [
       "0       NA\n",
       "1       TA\n",
       "2       TA\n",
       "3       Gd\n",
       "4       TA\n",
       "        ..\n",
       "1438    TA\n",
       "1439    TA\n",
       "1440    Gd\n",
       "1441    NA\n",
       "1442    NA\n",
       "Name: FireplaceQu, Length: 1443, dtype: category\n",
       "Categories (6, object): [Ex, Fa, Gd, NA, Po, TA]"
      ]
     },
     "execution_count": 48,
     "metadata": {},
     "output_type": "execute_result"
    }
   ],
   "source": [
    "df['FireplaceQu']"
   ]
  },
  {
   "cell_type": "code",
   "execution_count": 49,
   "metadata": {},
   "outputs": [
    {
     "data": {
      "text/plain": [
       "0       Attchd\n",
       "1       Attchd\n",
       "2       Attchd\n",
       "3       Detchd\n",
       "4       Attchd\n",
       "         ...  \n",
       "1438    Attchd\n",
       "1439    Attchd\n",
       "1440    Attchd\n",
       "1441    Attchd\n",
       "1442    Attchd\n",
       "Name: GarageType, Length: 1443, dtype: category\n",
       "Categories (7, object): [2Types, Attchd, Basment, BuiltIn, CarPort, Detchd, NA]"
      ]
     },
     "execution_count": 49,
     "metadata": {},
     "output_type": "execute_result"
    }
   ],
   "source": [
    "df['GarageType']"
   ]
  },
  {
   "cell_type": "code",
   "execution_count": 50,
   "metadata": {},
   "outputs": [
    {
     "data": {
      "text/plain": [
       "0       2003\n",
       "1       1976\n",
       "2       2001\n",
       "3       1998\n",
       "4       2000\n",
       "        ... \n",
       "1438    1999\n",
       "1439    1978\n",
       "1440    1941\n",
       "1441    1950\n",
       "1442    1965\n",
       "Name: GarageYrBlt, Length: 1443, dtype: category\n",
       "Categories (98, object): [1900, 1906, 1908, 1910, ..., 2008, 2009, 2010, NA]"
      ]
     },
     "execution_count": 50,
     "metadata": {},
     "output_type": "execute_result"
    }
   ],
   "source": [
    "df['GarageYrBlt']"
   ]
  },
  {
   "cell_type": "code",
   "execution_count": 51,
   "metadata": {},
   "outputs": [
    {
     "data": {
      "text/plain": [
       "GarageFinish     category\n",
       "GarageCars          int64\n",
       "GarageArea          int64\n",
       "GarageQual       category\n",
       "GarageCond       category\n",
       "PavedDrive       category\n",
       "WoodDeckSF          int64\n",
       "OpenPorchSF         int64\n",
       "EnclosedPorch       int64\n",
       "3SsnPorch           int64\n",
       "dtype: object"
      ]
     },
     "execution_count": 51,
     "metadata": {},
     "output_type": "execute_result"
    }
   ],
   "source": [
    "df.loc[:,'GarageFinish':'3SsnPorch'].dtypes"
   ]
  },
  {
   "cell_type": "code",
   "execution_count": 52,
   "metadata": {},
   "outputs": [
    {
     "data": {
      "text/plain": [
       "GarageFinish     0\n",
       "GarageCars       0\n",
       "GarageArea       0\n",
       "GarageQual       0\n",
       "GarageCond       0\n",
       "PavedDrive       0\n",
       "WoodDeckSF       0\n",
       "OpenPorchSF      0\n",
       "EnclosedPorch    0\n",
       "3SsnPorch        0\n",
       "dtype: int64"
      ]
     },
     "execution_count": 52,
     "metadata": {},
     "output_type": "execute_result"
    }
   ],
   "source": [
    "df.loc[:,'GarageFinish':'3SsnPorch'].isnull().sum()"
   ]
  },
  {
   "cell_type": "code",
   "execution_count": 53,
   "metadata": {},
   "outputs": [
    {
     "data": {
      "text/plain": [
       "0       RFn\n",
       "1       RFn\n",
       "2       RFn\n",
       "3       Unf\n",
       "4       RFn\n",
       "       ... \n",
       "1438    RFn\n",
       "1439    Unf\n",
       "1440    RFn\n",
       "1441    Unf\n",
       "1442    Fin\n",
       "Name: GarageFinish, Length: 1443, dtype: category\n",
       "Categories (4, object): [Fin, NA, RFn, Unf]"
      ]
     },
     "execution_count": 53,
     "metadata": {},
     "output_type": "execute_result"
    }
   ],
   "source": [
    "df['GarageFinish']"
   ]
  },
  {
   "cell_type": "code",
   "execution_count": 54,
   "metadata": {},
   "outputs": [
    {
     "data": {
      "text/plain": [
       "0       TA\n",
       "1       TA\n",
       "2       TA\n",
       "3       TA\n",
       "4       TA\n",
       "        ..\n",
       "1438    TA\n",
       "1439    TA\n",
       "1440    TA\n",
       "1441    TA\n",
       "1442    TA\n",
       "Name: GarageQual, Length: 1443, dtype: category\n",
       "Categories (6, object): [Ex, Fa, Gd, NA, Po, TA]"
      ]
     },
     "execution_count": 54,
     "metadata": {},
     "output_type": "execute_result"
    }
   ],
   "source": [
    "df['GarageQual']"
   ]
  },
  {
   "cell_type": "code",
   "execution_count": 55,
   "metadata": {},
   "outputs": [
    {
     "data": {
      "text/plain": [
       "0       TA\n",
       "1       TA\n",
       "2       TA\n",
       "3       TA\n",
       "4       TA\n",
       "        ..\n",
       "1438    TA\n",
       "1439    TA\n",
       "1440    TA\n",
       "1441    TA\n",
       "1442    TA\n",
       "Name: GarageCond, Length: 1443, dtype: category\n",
       "Categories (6, object): [Ex, Fa, Gd, NA, Po, TA]"
      ]
     },
     "execution_count": 55,
     "metadata": {},
     "output_type": "execute_result"
    }
   ],
   "source": [
    "df['GarageCond']"
   ]
  },
  {
   "cell_type": "code",
   "execution_count": 56,
   "metadata": {},
   "outputs": [
    {
     "data": {
      "text/plain": [
       "ScreenPorch         int64\n",
       "PoolArea            int64\n",
       "PoolQC           category\n",
       "Fence            category\n",
       "MiscFeature      category\n",
       "MiscVal             int64\n",
       "MoSold           category\n",
       "YrSold           category\n",
       "SaleType         category\n",
       "SaleCondition    category\n",
       "SalePrice           int64\n",
       "Remod                bool\n",
       "TimeSold         category\n",
       "dtype: object"
      ]
     },
     "execution_count": 56,
     "metadata": {},
     "output_type": "execute_result"
    }
   ],
   "source": [
    "df.loc[:,'ScreenPorch':].dtypes"
   ]
  },
  {
   "cell_type": "code",
   "execution_count": 57,
   "metadata": {},
   "outputs": [
    {
     "data": {
      "text/plain": [
       "ScreenPorch      0\n",
       "PoolArea         0\n",
       "PoolQC           0\n",
       "Fence            0\n",
       "MiscFeature      0\n",
       "MiscVal          0\n",
       "MoSold           0\n",
       "YrSold           0\n",
       "SaleType         0\n",
       "SaleCondition    0\n",
       "SalePrice        0\n",
       "Remod            0\n",
       "TimeSold         0\n",
       "dtype: int64"
      ]
     },
     "execution_count": 57,
     "metadata": {},
     "output_type": "execute_result"
    }
   ],
   "source": [
    "df.loc[:,'ScreenPorch':].isnull().sum()"
   ]
  },
  {
   "cell_type": "code",
   "execution_count": 58,
   "metadata": {},
   "outputs": [
    {
     "data": {
      "text/plain": [
       "0       NA\n",
       "1       NA\n",
       "2       NA\n",
       "3       NA\n",
       "4       NA\n",
       "        ..\n",
       "1438    NA\n",
       "1439    NA\n",
       "1440    NA\n",
       "1441    NA\n",
       "1442    NA\n",
       "Name: PoolQC, Length: 1443, dtype: category\n",
       "Categories (4, object): [Ex, Fa, Gd, NA]"
      ]
     },
     "execution_count": 58,
     "metadata": {},
     "output_type": "execute_result"
    }
   ],
   "source": [
    "df['PoolQC']"
   ]
  },
  {
   "cell_type": "code",
   "execution_count": 59,
   "metadata": {},
   "outputs": [
    {
     "data": {
      "text/plain": [
       "0          NA\n",
       "1          NA\n",
       "2          NA\n",
       "3          NA\n",
       "4          NA\n",
       "        ...  \n",
       "1438       NA\n",
       "1439    MnPrv\n",
       "1440    GdPrv\n",
       "1441       NA\n",
       "1442       NA\n",
       "Name: Fence, Length: 1443, dtype: category\n",
       "Categories (5, object): [GdPrv, GdWo, MnPrv, MnWw, NA]"
      ]
     },
     "execution_count": 59,
     "metadata": {},
     "output_type": "execute_result"
    }
   ],
   "source": [
    "df['Fence']"
   ]
  },
  {
   "cell_type": "code",
   "execution_count": 60,
   "metadata": {},
   "outputs": [
    {
     "data": {
      "text/plain": [
       "0         NA\n",
       "1         NA\n",
       "2         NA\n",
       "3         NA\n",
       "4         NA\n",
       "        ... \n",
       "1438      NA\n",
       "1439      NA\n",
       "1440    Shed\n",
       "1441      NA\n",
       "1442      NA\n",
       "Name: MiscFeature, Length: 1443, dtype: category\n",
       "Categories (5, object): [Gar2, NA, Othr, Shed, TenC]"
      ]
     },
     "execution_count": 60,
     "metadata": {},
     "output_type": "execute_result"
    }
   ],
   "source": [
    "df['MiscFeature']"
   ]
  },
  {
   "cell_type": "code",
   "execution_count": null,
   "metadata": {},
   "outputs": [],
   "source": []
  }
 ],
 "metadata": {
  "kernelspec": {
   "display_name": "Python 3",
   "language": "python",
   "name": "python3"
  },
  "language_info": {
   "codemirror_mode": {
    "name": "ipython",
    "version": 3
   },
   "file_extension": ".py",
   "mimetype": "text/x-python",
   "name": "python",
   "nbconvert_exporter": "python",
   "pygments_lexer": "ipython3",
   "version": "3.7.3"
  }
 },
 "nbformat": 4,
 "nbformat_minor": 2
}
